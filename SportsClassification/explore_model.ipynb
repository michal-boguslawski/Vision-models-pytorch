{
 "cells": [
  {
   "cell_type": "code",
   "execution_count": 1,
   "id": "a9c4b65e",
   "metadata": {},
   "outputs": [],
   "source": [
    "import sys\n",
    "sys.path.append(\"C:\\\\Users\\\\bogus\\\\Desktop\\\\Projects\\\\Vision-models-pytorch\\\\SportsClassification\\\\01_alexnet\")"
   ]
  },
  {
   "cell_type": "code",
   "execution_count": 2,
   "id": "68875d88",
   "metadata": {},
   "outputs": [],
   "source": [
    "from train import TrainModel\n",
    "import torch as T"
   ]
  },
  {
   "cell_type": "code",
   "execution_count": 3,
   "id": "719c23a0",
   "metadata": {},
   "outputs": [],
   "source": [
    "path = \"C:\\\\Users\\\\bogus\\\\Desktop\\\\Projects\\\\Vision-models-pytorch\\\\SportsClassification\\\\data\\\\test\"\n",
    "\n",
    "training_class = TrainModel()\n",
    "dataloader = training_class._prepare_dataloader(path, batch_size=4)\n"
   ]
  },
  {
   "cell_type": "code",
   "execution_count": 4,
   "id": "272a47d7",
   "metadata": {},
   "outputs": [],
   "source": [
    "test_dataloader = training_class._prepare_dataloader(path, batch_size=4)"
   ]
  },
  {
   "cell_type": "code",
   "execution_count": 5,
   "id": "414cb2fd",
   "metadata": {},
   "outputs": [],
   "source": [
    "images, y = next(iter(dataloader))"
   ]
  },
  {
   "cell_type": "code",
   "execution_count": 6,
   "id": "f3be7395",
   "metadata": {},
   "outputs": [
    {
     "data": {
      "text/plain": [
       "torch.Size([4, 3, 224, 224])"
      ]
     },
     "execution_count": 6,
     "metadata": {},
     "output_type": "execute_result"
    }
   ],
   "source": [
    "images.shape"
   ]
  },
  {
   "cell_type": "code",
   "execution_count": 10,
   "id": "9d106d28",
   "metadata": {},
   "outputs": [
    {
     "data": {
      "text/plain": [
       "tensor([34, 16, 57, 78])"
      ]
     },
     "execution_count": 10,
     "metadata": {},
     "output_type": "execute_result"
    }
   ],
   "source": [
    "training_class.model(images).argmax(-1)"
   ]
  },
  {
   "cell_type": "code",
   "execution_count": 13,
   "id": "7ea8625f",
   "metadata": {},
   "outputs": [],
   "source": [
    "class_names = training_class.class_names"
   ]
  },
  {
   "cell_type": "code",
   "execution_count": 24,
   "id": "48a4bd55",
   "metadata": {},
   "outputs": [
    {
     "data": {
      "text/plain": [
       "['gaga', 'mushing', 'figure skating men', 'baton twirling']"
      ]
     },
     "execution_count": 24,
     "metadata": {},
     "output_type": "execute_result"
    }
   ],
   "source": [
    "pred_indices = training_class.predict(images)\n",
    "pred_classes = [class_names[i] for i in pred_indices]\n",
    "pred_classes"
   ]
  },
  {
   "cell_type": "code",
   "execution_count": 19,
   "id": "24480e2c",
   "metadata": {},
   "outputs": [
    {
     "data": {
      "text/plain": [
       "['figure skating women', 'ice climbing', 'pole vault', 'ice yachting']"
      ]
     },
     "execution_count": 19,
     "metadata": {},
     "output_type": "execute_result"
    }
   ],
   "source": [
    "true_classes = [class_names[i] for i in y]\n",
    "true_classes"
   ]
  },
  {
   "cell_type": "code",
   "execution_count": 20,
   "id": "3c38182f",
   "metadata": {},
   "outputs": [],
   "source": [
    "from sklearn.metrics import accuracy_score"
   ]
  },
  {
   "cell_type": "code",
   "execution_count": 23,
   "id": "5edea1d0",
   "metadata": {},
   "outputs": [
    {
     "data": {
      "text/plain": [
       "0.0"
      ]
     },
     "execution_count": 23,
     "metadata": {},
     "output_type": "execute_result"
    }
   ],
   "source": [
    "accuracy_score(true_classes, pred_classes)"
   ]
  }
 ],
 "metadata": {
  "kernelspec": {
   "display_name": "Python 3",
   "language": "python",
   "name": "python3"
  },
  "language_info": {
   "codemirror_mode": {
    "name": "ipython",
    "version": 3
   },
   "file_extension": ".py",
   "mimetype": "text/x-python",
   "name": "python",
   "nbconvert_exporter": "python",
   "pygments_lexer": "ipython3",
   "version": "3.13.3"
  }
 },
 "nbformat": 4,
 "nbformat_minor": 5
}
